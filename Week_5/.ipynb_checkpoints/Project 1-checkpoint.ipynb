{
 "cells": [
  {
   "cell_type": "code",
   "execution_count": 3,
   "id": "7c76bd22",
   "metadata": {},
   "outputs": [
    {
     "ename": "NameError",
     "evalue": "name 'pd' is not defined",
     "output_type": "error",
     "traceback": [
      "\u001b[1;31m---------------------------------------------------------------------------\u001b[0m",
      "\u001b[1;31mNameError\u001b[0m                                 Traceback (most recent call last)",
      "Cell \u001b[1;32mIn[3], line 1\u001b[0m\n\u001b[1;32m----> 1\u001b[0m girls \u001b[38;5;241m=\u001b[39m \u001b[43mpd\u001b[49m\u001b[38;5;241m.\u001b[39mDataFrame({\n\u001b[0;32m      2\u001b[0m     \u001b[38;5;124m'\u001b[39m\u001b[38;5;124mName\u001b[39m\u001b[38;5;124m'\u001b[39m: [\u001b[38;5;124m'\u001b[39m\u001b[38;5;124mSamantha\u001b[39m\u001b[38;5;124m'\u001b[39m,\u001b[38;5;124m'\u001b[39m\u001b[38;5;124mJada\u001b[39m\u001b[38;5;124m'\u001b[39m,\u001b[38;5;124m'\u001b[39m\u001b[38;5;124mJane\u001b[39m\u001b[38;5;124m'\u001b[39m,\u001b[38;5;124m'\u001b[39m\u001b[38;5;124mClaire\u001b[39m\u001b[38;5;124m'\u001b[39m,\u001b[38;5;124m'\u001b[39m\u001b[38;5;124mElizabeth\u001b[39m\u001b[38;5;124m'\u001b[39m,\u001b[38;5;124m'\u001b[39m\u001b[38;5;124mMary\u001b[39m\u001b[38;5;124m'\u001b[39m,\u001b[38;5;124m'\u001b[39m\u001b[38;5;124mSusan\u001b[39m\u001b[38;5;124m'\u001b[39m,\u001b[38;5;124m'\u001b[39m\u001b[38;5;124mWaje\u001b[39m\u001b[38;5;124m'\u001b[39m,\u001b[38;5;124m'\u001b[39m\u001b[38;5;124mTaibat\u001b[39m\u001b[38;5;124m'\u001b[39m,\u001b[38;5;124m'\u001b[39m\u001b[38;5;124mLilian\u001b[39m\u001b[38;5;124m'\u001b[39m],\n\u001b[0;32m      3\u001b[0m     \u001b[38;5;124m'\u001b[39m\u001b[38;5;124mAge\u001b[39m\u001b[38;5;124m'\u001b[39m:[\u001b[38;5;241m17\u001b[39m, \u001b[38;5;241m16\u001b[39m, \u001b[38;5;241m17\u001b[39m, \u001b[38;5;241m18\u001b[39m, \u001b[38;5;241m16\u001b[39m, \u001b[38;5;241m18\u001b[39m, \u001b[38;5;241m17\u001b[39m, \u001b[38;5;241m20\u001b[39m, \u001b[38;5;241m19\u001b[39m, \u001b[38;5;241m17\u001b[39m],\n\u001b[0;32m      4\u001b[0m     \u001b[38;5;124m'\u001b[39m\u001b[38;5;124mHeight\u001b[39m\u001b[38;5;124m'\u001b[39m:[\u001b[38;5;241m5.5\u001b[39m, \u001b[38;5;241m6.0\u001b[39m, \u001b[38;5;241m5.4\u001b[39m, \u001b[38;5;241m5.9\u001b[39m, \u001b[38;5;241m5.6\u001b[39m, \u001b[38;5;241m5.5\u001b[39m, \u001b[38;5;241m6.1\u001b[39m, \u001b[38;5;241m6.0\u001b[39m, \u001b[38;5;241m5.7\u001b[39m, \u001b[38;5;241m5.5\u001b[39m],\n\u001b[0;32m      5\u001b[0m     \u001b[38;5;124m'\u001b[39m\u001b[38;5;124mScore\u001b[39m\u001b[38;5;124m'\u001b[39m: [\u001b[38;5;241m80\u001b[39m, \u001b[38;5;241m85\u001b[39m, \u001b[38;5;241m70\u001b[39m, \u001b[38;5;241m60\u001b[39m, \u001b[38;5;241m76\u001b[39m, \u001b[38;5;241m66\u001b[39m, \u001b[38;5;241m87\u001b[39m, \u001b[38;5;241m95\u001b[39m, \u001b[38;5;241m50\u001b[39m, \u001b[38;5;241m49\u001b[39m]})\n\u001b[0;32m      6\u001b[0m boys \u001b[38;5;241m=\u001b[39m pd\u001b[38;5;241m.\u001b[39mDataFrame({\n\u001b[0;32m      7\u001b[0m     \u001b[38;5;124m'\u001b[39m\u001b[38;5;124mName\u001b[39m\u001b[38;5;124m'\u001b[39m: [\u001b[38;5;124m'\u001b[39m\u001b[38;5;124mCharles\u001b[39m\u001b[38;5;124m'\u001b[39m,\u001b[38;5;124m'\u001b[39m\u001b[38;5;124mJude\u001b[39m\u001b[38;5;124m'\u001b[39m,\u001b[38;5;124m'\u001b[39m\u001b[38;5;124mJames\u001b[39m\u001b[38;5;124m'\u001b[39m,\u001b[38;5;124m'\u001b[39m\u001b[38;5;124mKelvin\u001b[39m\u001b[38;5;124m'\u001b[39m,\u001b[38;5;124m'\u001b[39m\u001b[38;5;124mBiodun\u001b[39m\u001b[38;5;124m'\u001b[39m,\u001b[38;5;124m'\u001b[39m\u001b[38;5;124mWale\u001b[39m\u001b[38;5;124m'\u001b[39m,\u001b[38;5;124m'\u001b[39m\u001b[38;5;124mKunle\u001b[39m\u001b[38;5;124m'\u001b[39m,\u001b[38;5;124m'\u001b[39m\u001b[38;5;124mMatthew\u001b[39m\u001b[38;5;124m'\u001b[39m,\u001b[38;5;124m'\u001b[39m\u001b[38;5;124mTom\u001b[39m\u001b[38;5;124m'\u001b[39m,\u001b[38;5;124m'\u001b[39m\u001b[38;5;124mKayode\u001b[39m\u001b[38;5;124m'\u001b[39m],\n\u001b[0;32m      8\u001b[0m     \u001b[38;5;124m'\u001b[39m\u001b[38;5;124mAge\u001b[39m\u001b[38;5;124m'\u001b[39m:[\u001b[38;5;241m19\u001b[39m, \u001b[38;5;241m16\u001b[39m, \u001b[38;5;241m18\u001b[39m, \u001b[38;5;241m17\u001b[39m, \u001b[38;5;241m20\u001b[39m, \u001b[38;5;241m19\u001b[39m, \u001b[38;5;241m16\u001b[39m, \u001b[38;5;241m18\u001b[39m, \u001b[38;5;241m17\u001b[39m, \u001b[38;5;241m19\u001b[39m],\n\u001b[0;32m      9\u001b[0m     \u001b[38;5;124m'\u001b[39m\u001b[38;5;124mHeight\u001b[39m\u001b[38;5;124m'\u001b[39m:[\u001b[38;5;241m5.7\u001b[39m, \u001b[38;5;241m5.9\u001b[39m, \u001b[38;5;241m5.8\u001b[39m, \u001b[38;5;241m6.1\u001b[39m, \u001b[38;5;241m5.9\u001b[39m, \u001b[38;5;241m5.5\u001b[39m, \u001b[38;5;241m6.1\u001b[39m, \u001b[38;5;241m5.4\u001b[39m, \u001b[38;5;241m5.8\u001b[39m, \u001b[38;5;241m5.7\u001b[39m],\n\u001b[0;32m     10\u001b[0m     \u001b[38;5;124m'\u001b[39m\u001b[38;5;124mScore\u001b[39m\u001b[38;5;124m'\u001b[39m: [\u001b[38;5;241m74\u001b[39m, \u001b[38;5;241m87\u001b[39m, \u001b[38;5;241m75\u001b[39m, \u001b[38;5;241m68\u001b[39m, \u001b[38;5;241m66\u001b[39m, \u001b[38;5;241m78\u001b[39m, \u001b[38;5;241m87\u001b[39m, \u001b[38;5;241m98\u001b[39m, \u001b[38;5;241m54\u001b[39m, \u001b[38;5;241m60\u001b[39m]})\n\u001b[0;32m     11\u001b[0m \u001b[38;5;28mprint\u001b[39m(\u001b[38;5;124m\"\u001b[39m\u001b[38;5;130;01m\\n\u001b[39;00m\u001b[38;5;124mGirls Table\u001b[39m\u001b[38;5;124m\"\u001b[39m)\n",
      "\u001b[1;31mNameError\u001b[0m: name 'pd' is not defined"
     ]
    }
   ],
   "source": [
    "import pandas as pd\n",
    "\n",
    "girls = pd.DataFrame({\n",
    "    'Name': ['Samantha','Jada','Jane','Claire','Elizabeth','Mary','Susan','Waje','Taibat','Lilian'],\n",
    "    'Age':[17, 16, 17, 18, 16, 18, 17, 20, 19, 17],\n",
    "    'Height':[5.5, 6.0, 5.4, 5.9, 5.6, 5.5, 6.1, 6.0, 5.7, 5.5],\n",
    "    'Score': [80, 85, 70, 60, 76, 66, 87, 95, 50, 49]})\n",
    "boys = pd.DataFrame({\n",
    "    'Name': ['Charles','Jude','James','Kelvin','Biodun','Wale','Kunle','Matthew','Tom','Kayode'],\n",
    "    'Age':[19, 16, 18, 17, 20, 19, 16, 18, 17, 19],\n",
    "    'Height':[5.7, 5.9, 5.8, 6.1, 5.9, 5.5, 6.1, 5.4, 5.8, 5.7],\n",
    "    'Score': [74, 87, 75, 68, 66, 78, 87, 98, 54, 60]})\n",
    "print(\"\\nGirls Table\")\n",
    "print(girls.to_string(index=False))\n",
    "print(\"\\nBoys Table\")\n",
    "print(boys.to_string(index=False))"
   ]
  },
  {
   "cell_type": "code",
   "execution_count": null,
   "id": "7dcb2232",
   "metadata": {},
   "outputs": [],
   "source": []
  }
 ],
 "metadata": {
  "kernelspec": {
   "display_name": "Python 3 (ipykernel)",
   "language": "python",
   "name": "python3"
  },
  "language_info": {
   "codemirror_mode": {
    "name": "ipython",
    "version": 3
   },
   "file_extension": ".py",
   "mimetype": "text/x-python",
   "name": "python",
   "nbconvert_exporter": "python",
   "pygments_lexer": "ipython3",
   "version": "3.10.9"
  }
 },
 "nbformat": 4,
 "nbformat_minor": 5
}
