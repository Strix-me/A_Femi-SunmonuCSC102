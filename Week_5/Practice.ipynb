{
 "cells": [
  {
   "cell_type": "code",
   "execution_count": 1,
   "id": "0e45f6e8",
   "metadata": {},
   "outputs": [
    {
     "name": "stdout",
     "output_type": "stream",
     "text": [
      "Enter name of City 1: Lagos\n",
      "Enter name of City 2: Kano\n",
      "The name of City 1 after swapping is Kano\n",
      "The name of City 2 after swapping is Lagos\n"
     ]
    }
   ],
   "source": [
    "# Python Program to swap two citites\n",
    "# To toke inputs from the user\n",
    "city_1 = input('Enter name of City 1: ')\n",
    "city_2 = input('Enter name of City 2: ')\n",
    "\n",
    "# create a temporary variable and swap the cities\n",
    "temp = city_1\n",
    "city_1 = city_2\n",
    "city_2 = temp\n",
    "\n",
    "print(f\"The name of City 1 after swapping is {city_1}\")\n",
    "print(f\"The name of City 2 after swapping is {city_2}\")\n"
   ]
  },
  {
   "cell_type": "code",
   "execution_count": 3,
   "id": "619671a7",
   "metadata": {},
   "outputs": [
    {
     "name": "stdout",
     "output_type": "stream",
     "text": [
      "Enter A Number: -4\n",
      "Negative number\n"
     ]
    }
   ],
   "source": [
    "# Program to check if a Number is positive, Negative  or 0\n",
    "\n",
    "num = float(input(\"Enter A Number: \"))\n",
    "if num > 0:\n",
    "    print(\"Postive Number\")\n",
    "elif num == 0:\n",
    "    print(\"Zero\")\n",
    "else:\n",
    "    print(\"Negative number\")"
   ]
  },
  {
   "cell_type": "code",
   "execution_count": 5,
   "id": "133519b5",
   "metadata": {},
   "outputs": [
    {
     "name": "stdout",
     "output_type": "stream",
     "text": [
      "Welcome to COUPE DE ESCRIVA 2023: FOOTBALL PICKS \n",
      " \n",
      "Madiba: Chubby Obiora-Okafo\n",
      "Blue-Jays Christopher Uweh\n",
      "Cirok:  Alexander\n",
      "TSG Walkers:  Ikechukwu\n",
      "\n",
      "\n",
      "Madiba:  Chubby Obiora-Okafo\n",
      "Blue-Jays:  Oladimeji Abaniwondea/Jeffery Awagu\n",
      "Cirok:  Timileyin Pearse/Izuko Jeremy\n",
      "TSG Walkers  Ayomide Ojikutu\n"
     ]
    }
   ],
   "source": [
    "print(\"Welcome to COUPE DE ESCRIVA 2023: FOOTBALL PICKS \\n \")\n",
    "\n",
    "\n",
    "captain = {'Madiba:': 'Chubby Obiora-Okafo' , 'Blue-Jays': 'Christopher Uweh' ,\n",
    "          'Cirok: ': 'Alexander', 'TSG Walkers: ': 'Ikechukwu'}\n",
    "\n",
    " \n",
    "goalkeepers = {'Madiba: ': 'Chubby Obiora-Okafo',\n",
    "          'Blue-Jays: ': 'Oladimeji Abaniwondea/Jeffery Awagu',\n",
    "           'Cirok: ': 'Timileyin Pearse/Izuko Jeremy' ,\n",
    "           'TSG Walkers ': 'Ayomide Ojikutu'}\n",
    "for pick in captain:\n",
    "    print(pick, captain[pick])\n",
    "\n",
    "print(\"\\n\")\n",
    "\n",
    "for pick in goalkeepers:\n",
    "    print(pick, goalkeepers[pick])\n"
   ]
  },
  {
   "cell_type": "code",
   "execution_count": null,
   "id": "2ebb6ad5",
   "metadata": {},
   "outputs": [],
   "source": []
  }
 ],
 "metadata": {
  "kernelspec": {
   "display_name": "Python 3 (ipykernel)",
   "language": "python",
   "name": "python3"
  },
  "language_info": {
   "codemirror_mode": {
    "name": "ipython",
    "version": 3
   },
   "file_extension": ".py",
   "mimetype": "text/x-python",
   "name": "python",
   "nbconvert_exporter": "python",
   "pygments_lexer": "ipython3",
   "version": "3.10.9"
  }
 },
 "nbformat": 4,
 "nbformat_minor": 5
}
