{
 "cells": [
  {
   "cell_type": "code",
   "execution_count": 1,
   "id": "0e45f6e8",
   "metadata": {},
   "outputs": [
    {
     "name": "stdout",
     "output_type": "stream",
     "text": [
      "Enter name of City 1: Lagos\n",
      "Enter name of City 2: Kano\n",
      "The name of City 1 after swapping is Kano\n",
      "The name of City 2 after swapping is Lagos\n"
     ]
    }
   ],
   "source": [
    "# Python Program to swap two citites\n",
    "# To toke inputs from the user\n",
    "city_1 = input('Enter name of City 1: ')\n",
    "city_2 = input('Enter name of City 2: ')\n",
    "\n",
    "# create a temporary variable and swap the cities\n",
    "temp = city_1\n",
    "city_1 = city_2\n",
    "city_2 = temp\n",
    "\n",
    "print(f\"The name of City 1 after swapping is {city_1}\")\n",
    "print(f\"The name of City 2 after swapping is {city_2}\")\n"
   ]
  },
  {
   "cell_type": "code",
   "execution_count": 3,
   "id": "619671a7",
   "metadata": {},
   "outputs": [
    {
     "name": "stdout",
     "output_type": "stream",
     "text": [
      "Enter A Number: -4\n",
      "Negative number\n"
     ]
    }
   ],
   "source": [
    "# Program to check if a Number is positive, Negative  or 0\n",
    "\n",
    "num = float(input(\"Enter A Number: \"))\n",
    "if num > 0:\n",
    "    print(\"Postive Number\")\n",
    "elif num == 0:\n",
    "    print(\"Zero\")\n",
    "else:\n",
    "    print(\"Negative number\")"
   ]
  },
  {
   "cell_type": "code",
   "execution_count": 17,
   "id": "133519b5",
   "metadata": {},
   "outputs": [
    {
     "name": "stdout",
     "output_type": "stream",
     "text": [
      "Welcome to COUPE DE ESCRIVA 2023: FOOTBALL PICKS \n",
      " \n",
      "Madiba: Chubby Obiora-Okafo\n",
      "Blue-Jays Christopher Uweh\n",
      "Cirok:  Alexander\n",
      "TSG Walkers:  Ikechukwu\n",
      "\n",
      "\n",
      "Madiba:  Chubby Obiora-Okafo\n",
      "Blue-Jays:  Oladimeji Abaniwondea/Jeffery Awagu\n",
      "Cirok:  Timileyin Pearse/Izuko Jeremy\n",
      "TSG Walkers  Ayomide Ojikutu\n"
     ]
    }
   ],
   "source": [
    "print(\"Welcome to COUPE DE ESCRIVA 2023: FOOTBALL PICKS \\n \")\n",
    "\n",
    "\n",
    "captain = {'Madiba:': 'Chubby Obiora-Okafo' , 'Blue-Jays': 'Christopher Uweh' ,\n",
    "          'Cirok: ': 'Alexander', 'TSG Walkers: ': 'Ikechukwu'}\n",
    "\n",
    " \n",
    "goalkeepers = {'Madiba: ': 'Chubby Obiora-Okafo',\n",
    "          'Blue-Jays: ': 'Oladimeji Abaniwondea/Jeffery Awagu',\n",
    "           'Cirok: ': 'Timileyin Pearse/Izuko Jeremy' ,\n",
    "           'TSG Walkers ': 'Ayomide Ojikutu'}\n",
    "for pick in captain:\n",
    "    print(pick, captain[pick])\n",
    "\n",
    "print(\"\\n\")\n",
    "\n",
    "for pick in goalkeepers:\n",
    "    print(pick, goalkeepers[pick])\n"
   ]
  },
  {
   "cell_type": "code",
   "execution_count": 2,
   "id": "2ebb6ad5",
   "metadata": {},
   "outputs": [
    {
     "name": "stdout",
     "output_type": "stream",
     "text": [
      "10\n",
      "20\n",
      "30\n",
      "40\n",
      "50\n",
      "60\n",
      "70\n",
      "80\n",
      "90\n"
     ]
    }
   ],
   "source": [
    "for num in range(10):\n",
    "    if num > 0:\n",
    "        print(num * 10)"
   ]
  },
  {
   "cell_type": "code",
   "execution_count": 6,
   "id": "3fe46331",
   "metadata": {},
   "outputs": [
    {
     "name": "stdout",
     "output_type": "stream",
     "text": [
      "Enter number to find their sum, negative number ends the loop: \n",
      "9\n",
      "9\n",
      "9\n",
      "-0\n",
      "-9\n",
      "Sum = 27\n"
     ]
    }
   ],
   "source": [
    "entry = 0\n",
    "sum1 = 0\n",
    "print(\"Enter number to find their sum, negative number ends the loop: \")\n",
    "while True:\n",
    "    entry = int(input())\n",
    "    if (entry < 0):\n",
    "        break\n",
    "    sum1 += entry\n",
    "print(\"Sum =\", sum1)"
   ]
  },
  {
   "cell_type": "code",
   "execution_count": 10,
   "id": "14f446c5",
   "metadata": {},
   "outputs": [
    {
     "name": "stdout",
     "output_type": "stream",
     "text": [
      "Num has value1\n",
      "Num has value2\n",
      "Num has value4\n",
      "Num has value5\n",
      "Num has value6\n"
     ]
    }
   ],
   "source": [
    "num = 0\n",
    "for num in range(6):\n",
    "    num = num + 1\n",
    "    if num == 3:\n",
    "        continue\n",
    "    print('Num has value' + str(num))\n",
    "#print('End of Loop')"
   ]
  },
  {
   "cell_type": "code",
   "execution_count": 18,
   "id": "4f3cd1a2",
   "metadata": {},
   "outputs": [
    {
     "name": "stdout",
     "output_type": "stream",
     "text": [
      "apple\n",
      "banana\n"
     ]
    }
   ],
   "source": [
    "fruits = [\"apple\", \"banana\", \"cherry\"]\n",
    "for x in fruits:\n",
    "  print(x) \n",
    "  if x == \"banana\":\n",
    "    break\n"
   ]
  },
  {
   "cell_type": "code",
   "execution_count": 15,
   "id": "6ea5e6ac",
   "metadata": {},
   "outputs": [
    {
     "name": "stdout",
     "output_type": "stream",
     "text": [
      "Iteration1of outer loop\n",
      "1\n",
      "2\n",
      "out of inner loop\n",
      "Iteration2of outer loop\n",
      "1\n",
      "2\n",
      "out of inner loop\n",
      "Iteration3of outer loop\n",
      "1\n",
      "2\n",
      "out of inner loop\n",
      "Out of outer loop\n"
     ]
    }
   ],
   "source": [
    " for var1 in range(3):\n",
    "        print(\"Iteration\" + str(var1 + 1) + \"of outer loop\")\n",
    "        for var2 in range(2):\n",
    "            print(var2 +1)\n",
    "        print(\"out of inner loop\")\n",
    "print(\"Out of outer loop\")"
   ]
  },
  {
   "cell_type": "code",
   "execution_count": null,
   "id": "2582c7ad",
   "metadata": {},
   "outputs": [],
   "source": []
  }
 ],
 "metadata": {
  "kernelspec": {
   "display_name": "Python 3 (ipykernel)",
   "language": "python",
   "name": "python3"
  },
  "language_info": {
   "codemirror_mode": {
    "name": "ipython",
    "version": 3
   },
   "file_extension": ".py",
   "mimetype": "text/x-python",
   "name": "python",
   "nbconvert_exporter": "python",
   "pygments_lexer": "ipython3",
   "version": "3.10.9"
  }
 },
 "nbformat": 4,
 "nbformat_minor": 5
}
