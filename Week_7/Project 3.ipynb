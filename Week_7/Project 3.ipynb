{
 "cells": [
  {
   "cell_type": "code",
   "execution_count": 4,
   "id": "97c41dff",
   "metadata": {},
   "outputs": [
    {
     "name": "stdout",
     "output_type": "stream",
     "text": [
      "What Course are you applying to?\n",
      " 1.Computer Science\n",
      " 2.Mass Commmunication\n",
      " Pick 1 or 2. 1\n",
      "Input Your Jamb Score250\n",
      "How many credits did you have in the compulsory subjects5\n",
      "Input name of StudentAbdulrazaq Femi-Sunmonu\n"
     ]
    }
   ],
   "source": [
    "import pandas as pd\n",
    "\n",
    "course = float(input(\"What Course are you applying to?\\n 1.Computer Science\\n 2.Mass Commmunication\\n Pick 1 or 2. \"))\n",
    "if course == 1:\n",
    "    jamb = float(input(\"Input Your Jamb Score\"))\n",
    "    results = float(input(\"How many credits did you have in the compulsory subjects\"))\n",
    "    if jamb >= 230 and results >= 5:\n",
    "        student = []\n",
    "        for i in range(1):\n",
    "            jamb = input(\"Input name of Student\")\n",
    "            student.append(jamb)\n",
    "            df = pd.DataFrame(student)\n",
    "            \n",
    "            df.to_csv('compsciadmission.csv')\n",
    "            \n",
    "    else:\n",
    "        student = []\n",
    "        for i in range(1):\n",
    "            jamb = input(\"Input name of Student\")\n",
    "            student.append(jamb)\n",
    "            df = pd.DataFrame(student)\n",
    "            df.to_csv('notadmitedcompsci')\n",
    "            \n",
    "elif course == 2:\n",
    "    jamb = float(input(\"Input Jamb Score\"))\n",
    "    results = float(input(\"How many credits did you have in the compulsory subjects\"))\n",
    "    if jamb >= 220 and results >= 5:\n",
    "        student = []\n",
    "        for i in range(1):\n",
    "            jamb = input(\"Input name of student\")\n",
    "            student.append(jamb)\n",
    "            df = pd.DataFrame(student)\n",
    "            d.to_csv('masscomadmission.csv')\n",
    "    else:\n",
    "        student = []\n",
    "        for i in range(1):\n",
    "            jamb = input(\"Enter name of student: \")\n",
    "            student.append(jamb)\n",
    "            \n",
    "            df = pd.DataFram(student)\n",
    "            \n",
    "            df.to_csu('notadmittedmascom')\n",
    "            \n",
    "else:\n",
    "    print(\"Invalid Input\")\n",
    "            \n",
    "        \n",
    "            \n",
    "            "
   ]
  },
  {
   "cell_type": "markdown",
   "id": "cd182714",
   "metadata": {},
   "source": []
  }
 ],
 "metadata": {
  "kernelspec": {
   "display_name": "Python 3 (ipykernel)",
   "language": "python",
   "name": "python3"
  },
  "language_info": {
   "codemirror_mode": {
    "name": "ipython",
    "version": 3
   },
   "file_extension": ".py",
   "mimetype": "text/x-python",
   "name": "python",
   "nbconvert_exporter": "python",
   "pygments_lexer": "ipython3",
   "version": "3.10.9"
  }
 },
 "nbformat": 4,
 "nbformat_minor": 5
}
