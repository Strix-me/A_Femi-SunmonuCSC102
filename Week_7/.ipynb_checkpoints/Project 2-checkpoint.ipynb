{
 "cells": [
  {
   "cell_type": "code",
   "execution_count": 14,
   "id": "bd4deedd",
   "metadata": {},
   "outputs": [
    {
     "name": "stdout",
     "output_type": "stream",
     "text": [
      "If your location is Ibeju-Lekki type 1, if it is Epe type 21\n",
      "What is the weight of the package: 10\n",
      "Your fee is 2000\n"
     ]
    }
   ],
   "source": [
    "location = float(input(\"If your location is Ibeju-Lekki type 1, if it is Epe type 2\"))\n",
    "\n",
    "if location == 1:\n",
    "    weight = float(input(\"What is the weight of the package: \"))\n",
    "    if weight >= 10:\n",
    "        print(\"Your fee is 2000\")\n",
    "    else:\n",
    "        print(\"Your fee  is 1500\")\n",
    "\n",
    "elif location == 2:\n",
    "    weight = float(input(\"What is the weight of the package: \"))\n",
    "    if weight >= 10:\n",
    "        print(\"Your fee is 5000\")\n",
    "    else:\n",
    "        print(\"Your fee is 4000\")\n",
    "   \n",
    "            \n",
    "else:\n",
    "    print(\"Not A valid Input\")\n",
    "\n",
    "    \n",
    "\n",
    "\n",
    "\n",
    "\n",
    "\n"
   ]
  },
  {
   "cell_type": "code",
   "execution_count": null,
   "id": "fe13df2f",
   "metadata": {},
   "outputs": [],
   "source": []
  }
 ],
 "metadata": {
  "kernelspec": {
   "display_name": "Python 3 (ipykernel)",
   "language": "python",
   "name": "python3"
  },
  "language_info": {
   "codemirror_mode": {
    "name": "ipython",
    "version": 3
   },
   "file_extension": ".py",
   "mimetype": "text/x-python",
   "name": "python",
   "nbconvert_exporter": "python",
   "pygments_lexer": "ipython3",
   "version": "3.10.9"
  }
 },
 "nbformat": 4,
 "nbformat_minor": 5
}
