{
 "cells": [
  {
   "cell_type": "code",
   "execution_count": 5,
   "id": "6e81aeca",
   "metadata": {
    "scrolled": true
   },
   "outputs": [
    {
     "name": "stdout",
     "output_type": "stream",
     "text": [
      "+Principal is  10000\n",
      "Rate is 8\n",
      "Time is 5\n",
      "Simple Interest is 4000.0\n"
     ]
    }
   ],
   "source": [
    "'''Simple Interest Formula'''\n",
    "\n",
    "\n",
    "p = float(input(\"Principal is  \"))\n",
    "\n",
    "r = float(input(\"Rate is \"))\n",
    "\n",
    "t = float(input(\"Time is \"))\n",
    "\n",
    "si = (p*r*t)/100\n",
    "\n",
    "print(\"Simple Interest is\", si)\n"
   ]
  },
  {
   "cell_type": "code",
   "execution_count": 2,
   "id": "6e3e9033",
   "metadata": {},
   "outputs": [
    {
     "name": "stdout",
     "output_type": "stream",
     "text": [
      "+Principal is  1000\n",
      "Rate is 8\n",
      "Time is 1\n",
      "Number Of compounding periods is365\n",
      "Compund Interest is 1083.2775717928346\n"
     ]
    }
   ],
   "source": [
    "'''Compound Interest Formula'''\n",
    "\n",
    "\n",
    "p = float(input(\"Principal is  \"))\n",
    "\n",
    "r = float(input(\"Rate is \"))\n",
    "\n",
    "t = float(input(\"Time is \"))\n",
    "\n",
    "n = float(input(\"Number Of compounding periods is\"))\n",
    "\n",
    "ci = p*(1 + ((r/100)/n))**(n*t)\n",
    "\n",
    "print(\"Compund Interest is\", ci)\n"
   ]
  },
  {
   "cell_type": "code",
   "execution_count": 4,
   "id": "f42c3f50",
   "metadata": {},
   "outputs": [
    {
     "name": "stdout",
     "output_type": "stream",
     "text": [
      "Principal is  20000\n",
      "Rate is 6\n",
      "Time is 35\n",
      "Number Of compounding periods is12\n",
      "Annuity 28494205.975202423\n"
     ]
    }
   ],
   "source": [
    "'''Annuity Plan Formula'''\n",
    "\n",
    "p = float(input(\"Principal is  \"))\n",
    "\n",
    "r = float(input(\"Rate is \"))\n",
    "\n",
    "t = float(input(\"Time is \"))\n",
    "\n",
    "n = float(input(\"Number Of compounding periods is\"))\n",
    "\n",
    "annuity = p*((1 + ((r/100)/n))**(n*t)-1)/((r/100)/n)\n",
    "\n",
    "print(\"Annuity\", annuity)\n"
   ]
  },
  {
   "cell_type": "code",
   "execution_count": null,
   "id": "c06f32c7",
   "metadata": {},
   "outputs": [],
   "source": []
  }
 ],
 "metadata": {
  "kernelspec": {
   "display_name": "Python 3 (ipykernel)",
   "language": "python",
   "name": "python3"
  },
  "language_info": {
   "codemirror_mode": {
    "name": "ipython",
    "version": 3
   },
   "file_extension": ".py",
   "mimetype": "text/x-python",
   "name": "python",
   "nbconvert_exporter": "python",
   "pygments_lexer": "ipython3",
   "version": "3.10.9"
  }
 },
 "nbformat": 4,
 "nbformat_minor": 5
}
