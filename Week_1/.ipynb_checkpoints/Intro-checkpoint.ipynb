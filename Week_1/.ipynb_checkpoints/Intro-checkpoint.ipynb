{
 "cells": [
  {
   "cell_type": "code",
   "execution_count": 2,
   "id": "ae2d98a5",
   "metadata": {},
   "outputs": [
    {
     "name": "stdout",
     "output_type": "stream",
     "text": [
      "Hello Jay\n"
     ]
    }
   ],
   "source": [
    "print(\"Hello Jay\")\n"
   ]
  },
  {
   "cell_type": "code",
   "execution_count": 3,
   "id": "62ae9327",
   "metadata": {},
   "outputs": [
    {
     "name": "stdout",
     "output_type": "stream",
     "text": [
      "Whats your nameAbdulrazaq\n",
      "Hello, Abdulrazaq\n"
     ]
    }
   ],
   "source": [
    "person = input(\"Whats your name\")\n",
    "print(\"Hello,\", person)"
   ]
  },
  {
   "cell_type": "code",
   "execution_count": null,
   "id": "fcb0d98c",
   "metadata": {},
   "outputs": [],
   "source": [
    "age = 12\n",
    "print(age)"
   ]
  },
  {
   "cell_type": "code",
   "execution_count": null,
   "id": "b88480ee",
   "metadata": {},
   "outputs": [],
   "source": [
    "x = 6\n",
    "y = x * 7"
   ]
  },
  {
   "cell_type": "code",
   "execution_count": null,
   "id": "8ed845b4",
   "metadata": {},
   "outputs": [],
   "source": [
    "name = 'Adele Joe'\n",
    "print (name)"
   ]
  },
  {
   "cell_type": "code",
   "execution_count": null,
   "id": "01c4bcea",
   "metadata": {},
   "outputs": [],
   "source": [
    "mango = 5\n",
    "apple = 3\n",
    "apple > mango"
   ]
  },
  {
   "cell_type": "code",
   "execution_count": 1,
   "id": "8859c492",
   "metadata": {},
   "outputs": [
    {
     "ename": "NameError",
     "evalue": "name 'mango' is not defined",
     "output_type": "error",
     "traceback": [
      "\u001b[1;31m---------------------------------------------------------------------------\u001b[0m",
      "\u001b[1;31mNameError\u001b[0m                                 Traceback (most recent call last)",
      "Cell \u001b[1;32mIn[1], line 1\u001b[0m\n\u001b[1;32m----> 1\u001b[0m \u001b[43mmango\u001b[49m \u001b[38;5;241m<\u001b[39m apple\n",
      "\u001b[1;31mNameError\u001b[0m: name 'mango' is not defined"
     ]
    }
   ],
   "source": [
    "mango < apple"
   ]
  },
  {
   "cell_type": "code",
   "execution_count": 1,
   "id": "bf0014bc",
   "metadata": {},
   "outputs": [
    {
     "ename": "NameError",
     "evalue": "name 'mango' is not defined",
     "output_type": "error",
     "traceback": [
      "\u001b[1;31m---------------------------------------------------------------------------\u001b[0m",
      "\u001b[1;31mNameError\u001b[0m                                 Traceback (most recent call last)",
      "Cell \u001b[1;32mIn[1], line 1\u001b[0m\n\u001b[1;32m----> 1\u001b[0m \u001b[43mmango\u001b[49m \u001b[38;5;241m==\u001b[39m apple\n",
      "\u001b[1;31mNameError\u001b[0m: name 'mango' is not defined"
     ]
    }
   ],
   "source": [
    "mango == apple"
   ]
  },
  {
   "cell_type": "code",
   "execution_count": 4,
   "id": "24dc8ca0",
   "metadata": {},
   "outputs": [
    {
     "name": "stdout",
     "output_type": "stream",
     "text": [
      "Hello Guys\n",
      "How are you all\n",
      "Welcome to python Programming\n"
     ]
    }
   ],
   "source": [
    "'''We are writing a sample program here\n",
    "First Print Statement.\n",
    "THis is a multiple line comment.\n",
    "\n",
    "'''\n",
    "print(\"Hello Guys\")\n",
    "# Second Print Statement\n",
    "print(\"How are you all\")\n",
    "\n",
    "# Third print statement\n",
    "print(\"Welcome to python Programming\")"
   ]
  },
  {
   "cell_type": "code",
   "execution_count": 7,
   "id": "d0bacf15",
   "metadata": {},
   "outputs": [
    {
     "name": "stdout",
     "output_type": "stream",
     "text": [
      "Three Digit number\n"
     ]
    }
   ],
   "source": [
    "num = 100\n",
    "if 9 < num <99:\n",
    "    \n",
    "    Print(\"Two Digit number\")\n",
    "elif 99 < num < 999:\n",
    "    \n",
    "    print(\"Three Digit number\")\n",
    "    \n",
    "elif 999 < 9999:\n",
    "    \n",
    "    print(\"Four Digit Number\")\n",
    "    \n",
    "else:\n",
    "    \n",
    "    print(\"number is <= 9 or >= 9999\")\n",
    "    "
   ]
  },
  {
   "cell_type": "code",
   "execution_count": 9,
   "id": "82bda4c4",
   "metadata": {},
   "outputs": [
    {
     "name": "stdout",
     "output_type": "stream",
     "text": [
      "number is <= 9 or >= 9999\n"
     ]
    }
   ],
   "source": [
    "num = 100\n",
    "if 9 < num < 99:\n",
    "    \n",
    "    print(\"Two digit number\")\n",
    "    \n",
    "    if 99 < num < 999:\n",
    "        \n",
    "        print(\"Three digit number\")\n",
    "        \n",
    "        if 999 < num < 9999:\n",
    "            \n",
    "            print(\"Four digit number\")\n",
    "            \n",
    "else:\n",
    "    \n",
    "        print(\"number is <= 9 or >= 9999\")\n",
    "            \n",
    "            "
   ]
  },
  {
   "cell_type": "code",
   "execution_count": 11,
   "id": "ed57b094",
   "metadata": {},
   "outputs": [
    {
     "name": "stdout",
     "output_type": "stream",
     "text": [
      "Welcome to CSC 102 Introduction to Problem Solving\n"
     ]
    }
   ],
   "source": [
    "message = \"Welcome to\"\n",
    "course_code = \"CSC 102\"\n",
    "course_title = \"Introduction to Problem Solving\"\n",
    "\n",
    "concat = message +' '+ course_code+' '+course_title\n",
    "\n",
    "print(concat)"
   ]
  },
  {
   "cell_type": "code",
   "execution_count": null,
   "id": "abbbfb8e",
   "metadata": {},
   "outputs": [],
   "source": []
  }
 ],
 "metadata": {
  "kernelspec": {
   "display_name": "Python 3 (ipykernel)",
   "language": "python",
   "name": "python3"
  },
  "language_info": {
   "codemirror_mode": {
    "name": "ipython",
    "version": 3
   },
   "file_extension": ".py",
   "mimetype": "text/x-python",
   "name": "python",
   "nbconvert_exporter": "python",
   "pygments_lexer": "ipython3",
   "version": "3.10.9"
  }
 },
 "nbformat": 4,
 "nbformat_minor": 5
}
