{
 "cells": [
  {
   "cell_type": "code",
   "execution_count": 12,
   "id": "754692f7",
   "metadata": {},
   "outputs": [
    {
     "name": "stdout",
     "output_type": "stream",
     "text": [
      "What is your Name? hv\n",
      "What is your division\n",
      " 1. Retail Banking\n",
      " 2. Global Banking\n",
      " 3. Commercial Banking3\n"
     ]
    }
   ],
   "source": [
    "\n",
    "\n",
    "\n",
    "\n",
    "class zenith():\n",
    "    def unique_services(self):\n",
    "        print(\"Retirement and education account\\n loans and mortgages\\n Checking and savings\\n Multi-currency management services and products\\n Foreign currency accounts\\n Foreign currency credit cards\\n Transborder advisory services\\n Liquidity Management\\n Advisory\\n\")\n",
    "        \n",
    "    def mutual_services(self):\n",
    "        print(\"Lines of credit\\n Investment management and accounts\\n Insurance\")\n",
    "        \n",
    "class retail_banking(zenith):\n",
    "    \n",
    "    def unique_services(self):\n",
    "        print(\"Retirement and education accounts\\n Loans and mortgages\\n Checking and saving\")\n",
    "class global_banking(zenith):\n",
    "    def unique_services(self):\n",
    "        print(\"Multi-currency management services and products\\n Foreign currency accounts\\n Foreign currency credit cards\\n Transborder advisory services\\n Liquidity Management\\n Advisory\\n\")\n",
    "    def mutual_services(self):\n",
    "        print(\"No mutual services\")\n",
    "class comm_banking(zenith):\n",
    "    def unique_services(self):\n",
    "        print(\"Advisory Services\")\n",
    "        \n",
    "        \n",
    "obj_zenith = zenith()\n",
    "obj_retailbank = retail_banking()\n",
    "obj_globalbank = global_banking()\n",
    "obj_comm = comm_banking() \n",
    "\n",
    "\n",
    "name = str(input(\"What is your Name? \"))\n",
    "division = int(input(\"What is your division\\n 1. Retail Banking\\n 2. Global Banking\\n 3. Commercial Banking\"))\n",
    "    \n",
    "if division == 1:\n",
    "    obj_retailbank.unique_services()\n",
    "    obj_retailbank.mutual_services()\n",
    "elif division == 2:\n",
    "    obj_globalbank.unique_services()\n",
    "    obj_globalbank.mutual_services()\n",
    "else:\n",
    "    obj_comm.unique_services\n",
    "    obj_comm.mutual_services\n",
    "    \n",
    "\n",
    "    \n",
    "    \n",
    "    \n",
    "        "
   ]
  },
  {
   "cell_type": "code",
   "execution_count": null,
   "id": "372315b5",
   "metadata": {},
   "outputs": [],
   "source": []
  },
  {
   "cell_type": "code",
   "execution_count": null,
   "id": "3b8e453d",
   "metadata": {},
   "outputs": [],
   "source": []
  }
 ],
 "metadata": {
  "kernelspec": {
   "display_name": "Python 3 (ipykernel)",
   "language": "python",
   "name": "python3"
  },
  "language_info": {
   "codemirror_mode": {
    "name": "ipython",
    "version": 3
   },
   "file_extension": ".py",
   "mimetype": "text/x-python",
   "name": "python",
   "nbconvert_exporter": "python",
   "pygments_lexer": "ipython3",
   "version": "3.10.9"
  }
 },
 "nbformat": 4,
 "nbformat_minor": 5
}
