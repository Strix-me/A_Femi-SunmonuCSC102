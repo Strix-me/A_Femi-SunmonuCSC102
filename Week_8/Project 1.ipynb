{
 "cells": [
  {
   "cell_type": "code",
   "execution_count": 2,
   "id": "1a43b036",
   "metadata": {},
   "outputs": [
    {
     "name": "stdout",
     "output_type": "stream",
     "text": [
      "Enter Your Name: Eyo Ishan\n"
     ]
    },
    {
     "ename": "NameError",
     "evalue": "name 'employee_name' is not defined",
     "output_type": "error",
     "traceback": [
      "\u001b[1;31m---------------------------------------------------------------------------\u001b[0m",
      "\u001b[1;31mNameError\u001b[0m                                 Traceback (most recent call last)",
      "Cell \u001b[1;32mIn[2], line 40\u001b[0m\n\u001b[0;32m     33\u001b[0m         \u001b[38;5;28mprint\u001b[39m(\u001b[38;5;124m\"\u001b[39m\u001b[38;5;124mYou are not authorized\u001b[39m\u001b[38;5;124m\"\u001b[39m)\n\u001b[0;32m     35\u001b[0m obj \u001b[38;5;241m=\u001b[39m Employee()\n\u001b[1;32m---> 40\u001b[0m \u001b[43mobj\u001b[49m\u001b[38;5;241;43m.\u001b[39;49m\u001b[43mcheck_employee\u001b[49m\u001b[43m(\u001b[49m\u001b[43m)\u001b[49m\n",
      "Cell \u001b[1;32mIn[2], line 14\u001b[0m, in \u001b[0;36mEmployee.check_employee\u001b[1;34m(self)\u001b[0m\n\u001b[0;32m     12\u001b[0m \u001b[38;5;28;01mdef\u001b[39;00m \u001b[38;5;21mcheck_employee\u001b[39m(\u001b[38;5;28mself\u001b[39m):\n\u001b[1;32m---> 14\u001b[0m     \u001b[38;5;28;01mif\u001b[39;00m \u001b[43memployee_name\u001b[49m \u001b[38;5;129;01min\u001b[39;00m obj\u001b[38;5;241m.\u001b[39memployees:\n\u001b[0;32m     15\u001b[0m         \u001b[38;5;28mprint\u001b[39m(\u001b[38;5;124m\"\u001b[39m\u001b[38;5;124mYou are an employee\u001b[39m\u001b[38;5;124m\"\u001b[39m)\n\u001b[0;32m     16\u001b[0m         obj\u001b[38;5;241m.\u001b[39mtake_attendance()\n",
      "\u001b[1;31mNameError\u001b[0m: name 'employee_name' is not defined"
     ]
    }
   ],
   "source": [
    "import pandas as pd\n",
    "import random\n",
    "\n",
    "class Employee():\n",
    "    employees = ['Mary Evans','Eyo Ishan','Durojaiye Dare','Adams Ali','Andrew Ugwu','Stella Mankinde','Jane Akibo','Ago James','Michell Taiwo','Abraham Jones','Nicole Anide','Kosi Korso','Adele Martins','Emmanuel Ojo','Ajayi Fatima']\n",
    "    tasks = ['Loading','Transporting','Reviewing Orders','Customer Service','Delivering Items']\n",
    "    employee_name = input(\"Enter Your Name: \")\n",
    "    \n",
    "\n",
    "        \n",
    "        \n",
    "    def check_employee(self):\n",
    "       \n",
    "        if employee_name in obj.employees:\n",
    "            print(\"You are an employee\")\n",
    "            obj.take_attendance()\n",
    "\n",
    "            \n",
    "        else:\n",
    "            print(\"You are not an employee\")\n",
    "            obj.refuse_access\n",
    "\n",
    "    def take_attendance(self):\n",
    "        print(\"{} is present\".format(self.employee_name))\n",
    "        obj.assign_task()\n",
    "\n",
    "        \n",
    "    def assign_task(self):\n",
    "        task = random.choice(obj.tasks)\n",
    "        print(\"Your tasks for today {}\".format(task))\n",
    "        \n",
    "    def refuse_access(self):\n",
    "        print(\"You are not authorized\")\n",
    "        \n",
    "obj = Employee()\n",
    "      \n",
    "\n",
    "    \n",
    "    \n",
    "obj.check_employee()\n",
    "    \n",
    "        \n",
    "        \n",
    "    \n",
    "    \n",
    "    \n",
    "\n",
    "    \n",
    "        \n",
    "    \n",
    "    \n",
    "    \n",
    "    "
   ]
  },
  {
   "cell_type": "code",
   "execution_count": 4,
   "id": "2643e4d2",
   "metadata": {},
   "outputs": [
    {
     "name": "stdout",
     "output_type": "stream",
     "text": [
      "5\n"
     ]
    }
   ],
   "source": [
    "my_list = [1, 2, 3, 4, 5]\n",
    "random_element = random.choice(my_list)\n",
    "print(random_element)"
   ]
  },
  {
   "cell_type": "code",
   "execution_count": null,
   "id": "9c7280d4",
   "metadata": {},
   "outputs": [],
   "source": []
  }
 ],
 "metadata": {
  "kernelspec": {
   "display_name": "Python 3 (ipykernel)",
   "language": "python",
   "name": "python3"
  },
  "language_info": {
   "codemirror_mode": {
    "name": "ipython",
    "version": 3
   },
   "file_extension": ".py",
   "mimetype": "text/x-python",
   "name": "python",
   "nbconvert_exporter": "python",
   "pygments_lexer": "ipython3",
   "version": "3.10.9"
  }
 },
 "nbformat": 4,
 "nbformat_minor": 5
}
