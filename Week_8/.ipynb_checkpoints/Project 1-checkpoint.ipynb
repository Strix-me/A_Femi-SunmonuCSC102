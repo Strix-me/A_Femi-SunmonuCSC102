{
 "cells": [
  {
   "cell_type": "code",
   "execution_count": 18,
   "id": "1a43b036",
   "metadata": {},
   "outputs": [
    {
     "name": "stdout",
     "output_type": "stream",
     "text": [
      "Enter Your Name: Mary Evans\n",
      "You are an employee\n",
      "Mary Evans is present\n",
      "Your tasks for today Customer Service\n"
     ]
    }
   ],
   "source": [
    "import pandas as pd\n",
    "import random\n",
    "\n",
    "class Employee():\n",
    "    employees = ['Mary Evans','Eyo Ishan','Durojaiye Dare','Adams Ali','Andrew Ugwu','Stella Mankinde','Jane Akibo','Ago James','Michell Taiwo','Abraham Jones','Nicole Anide','Kosi Korso','Adele Martins','Emmanuel Ojo','Ajayi Fatima']\n",
    "    tasks = ['Loading','Transporting','Reviewing Orders','Customer Service','Delivering Items']\n",
    "    employee_name = input(\"Enter Your Name: \")\n",
    "    \n",
    "\n",
    "        \n",
    "        \n",
    "    def check_employee(self):\n",
    "       \n",
    "        if employee_name in obj.employees:\n",
    "            print(\"You are an employee\")\n",
    "            obj.take_attendance()\n",
    "\n",
    "            \n",
    "        else:\n",
    "            print(\"You are not an employee\")\n",
    "            obj.refuse_access\n",
    "\n",
    "    def take_attendance(self):\n",
    "        print(\"{} is present\".format(self.employee_name))\n",
    "        obj.assign_task()\n",
    "\n",
    "        \n",
    "    def assign_task(self):\n",
    "        task = random.choice(obj.tasks)\n",
    "        print(\"Your tasks for today {}\".format(task))\n",
    "        \n",
    "    def refuse_access(self):\n",
    "        print(\"You are not authorized\")\n",
    "        \n",
    "obj = Employee()\n",
    "      \n",
    "\n",
    "    \n",
    "    \n",
    "obj.check_employee()\n",
    "    \n",
    "        \n",
    "        \n",
    "    \n",
    "    \n",
    "    \n",
    "\n",
    "    \n",
    "        \n",
    "    \n",
    "    \n",
    "    \n",
    "    "
   ]
  },
  {
   "cell_type": "code",
   "execution_count": null,
   "id": "2643e4d2",
   "metadata": {},
   "outputs": [],
   "source": []
  }
 ],
 "metadata": {
  "kernelspec": {
   "display_name": "Python 3 (ipykernel)",
   "language": "python",
   "name": "python3"
  },
  "language_info": {
   "codemirror_mode": {
    "name": "ipython",
    "version": 3
   },
   "file_extension": ".py",
   "mimetype": "text/x-python",
   "name": "python",
   "nbconvert_exporter": "python",
   "pygments_lexer": "ipython3",
   "version": "3.10.9"
  }
 },
 "nbformat": 4,
 "nbformat_minor": 5
}
