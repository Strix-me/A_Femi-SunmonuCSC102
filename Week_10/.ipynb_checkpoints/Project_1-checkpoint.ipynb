{
 "cells": [
  {
   "cell_type": "code",
   "execution_count": 5,
   "id": "672c45c0",
   "metadata": {},
   "outputs": [
    {
     "ename": "NameError",
     "evalue": "name 'orange' is not defined",
     "output_type": "error",
     "traceback": [
      "\u001b[1;31m---------------------------------------------------------------------------\u001b[0m",
      "\u001b[1;31mNameError\u001b[0m                                 Traceback (most recent call last)",
      "Cell \u001b[1;32mIn[5], line 1\u001b[0m\n\u001b[1;32m----> 1\u001b[0m \u001b[38;5;28;01mclass\u001b[39;00m \u001b[38;5;21;01morange\u001b[39;00m():\n\u001b[0;32m      3\u001b[0m     \u001b[38;5;28;01mdef\u001b[39;00m \u001b[38;5;21m__init__\u001b[39m(\u001b[38;5;28mself\u001b[39m, stock, priceorange):\n\u001b[0;32m      4\u001b[0m         \u001b[38;5;28mself\u001b[39m\u001b[38;5;241m.\u001b[39mstock \u001b[38;5;241m=\u001b[39m stock\n",
      "Cell \u001b[1;32mIn[5], line 12\u001b[0m, in \u001b[0;36morange\u001b[1;34m()\u001b[0m\n\u001b[0;32m     10\u001b[0m     \u001b[38;5;28;01melse\u001b[39;00m:\n\u001b[0;32m     11\u001b[0m         \u001b[38;5;28mprint\u001b[39m(\u001b[38;5;124m\"\u001b[39m\u001b[38;5;124mSorry we do not have that many oranges\u001b[39m\u001b[38;5;124m\"\u001b[39m)\n\u001b[1;32m---> 12\u001b[0m store \u001b[38;5;241m=\u001b[39m \u001b[43morange\u001b[49m(\u001b[38;5;241m100\u001b[39m,\u001b[38;5;241m50\u001b[39m)\n\u001b[0;32m     14\u001b[0m requested_quantity \u001b[38;5;241m=\u001b[39m \u001b[38;5;28mint\u001b[39m(\u001b[38;5;28minput\u001b[39m(\u001b[38;5;124m\"\u001b[39m\u001b[38;5;124mEnter the number of oranges you want to buy: \u001b[39m\u001b[38;5;124m\"\u001b[39m))\n\u001b[0;32m     16\u001b[0m store\u001b[38;5;241m.\u001b[39mpurchase(requested_quantity)\n",
      "\u001b[1;31mNameError\u001b[0m: name 'orange' is not defined"
     ]
    }
   ],
   "source": [
    "class orange():\n",
    "    \n",
    "    def __init__(self, stock, priceorange):\n",
    "        self.stock = stock\n",
    "        self.priceorange = priceorange\n",
    "    def purchase(self, amount):\n",
    "        if amount <= self.stock:\n",
    "            total_amount = amount * priceorange\n",
    "            print(\" You are buying ranges, the total cost is\",total_amount)\n",
    "        else:\n",
    "            print(\"Sorry we do not have that many oranges\")\n",
    "    store = oranges(100,50)\n",
    "                  \n",
    "    requested_quantity = int(input(\"Enter the number of oranges you want to buy: \"))\n",
    "    \n",
    "    store.purchase(requested_quantity)\n",
    "                  \n",
    "                  \n",
    "            \n",
    "    "
   ]
  },
  {
   "cell_type": "code",
   "execution_count": null,
   "id": "23a95af9",
   "metadata": {},
   "outputs": [],
   "source": []
  }
 ],
 "metadata": {
  "kernelspec": {
   "display_name": "Python 3 (ipykernel)",
   "language": "python",
   "name": "python3"
  },
  "language_info": {
   "codemirror_mode": {
    "name": "ipython",
    "version": 3
   },
   "file_extension": ".py",
   "mimetype": "text/x-python",
   "name": "python",
   "nbconvert_exporter": "python",
   "pygments_lexer": "ipython3",
   "version": "3.10.9"
  }
 },
 "nbformat": 4,
 "nbformat_minor": 5
}
