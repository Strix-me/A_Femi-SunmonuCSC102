{
 "cells": [
  {
   "cell_type": "code",
   "execution_count": 9,
   "id": "61a01b6c",
   "metadata": {},
   "outputs": [
    {
     "name": "stdout",
     "output_type": "stream",
     "text": [
      "\n",
      "Please select an equation to calculate:\n",
      "1. Area of Trapezium\n",
      "2. Area of Rhombus\n",
      "3. Area of Parallelogram\n",
      "4. Area of Cube\n",
      "5. Volume of Cylinder\n",
      "6. Exit\n",
      "Enter your choice (1-6): 4\n",
      "Invalid choice. Please enter a valid choice (1-6).\n"
     ]
    }
   ],
   "source": [
    "import math\n",
    "\n",
    "class area_calculator():\n",
    "    def trapezium(self):\n",
    "        base1 = int(input(\"What is base 1\"))\n",
    "        base2 = int(input(\"What is base 2\"))\n",
    "        height = int(input(\"What is the height\"))\n",
    "        area = 0.5 * height * (base1 + base2)\n",
    "        print(f\"Area of Trapezium formula\",area)\n",
    "    def rhombus(self):\n",
    "        diagonal1 = int(input(\"What is diagonal 1\"))\n",
    "        diagonal2 = int(input(\"What is diagonal 2\"))\n",
    "        area = 0.5 * diagonal1 * diagonal2\n",
    "        print(f\"Area of rhombus formula\",area)\n",
    "        \n",
    "    def parallelogram(self):\n",
    "        base = int(input(\"What is base\"))\n",
    "        altitude = int(input(\"What is altitude\"))\n",
    "        area = base * altitude\n",
    "        print(f\"Area of parallelogram\",area)\n",
    "    def cube_formula(self):\n",
    "        lengthofside = int(input(\"What is length of one side?\"))\n",
    "        area = lengthofside * (6 ** 2)\n",
    "        print(f\"Area of Cube\",area)\n",
    "    def volume_cylinder(self):\n",
    "        radius = int(input(\"What is radius\"))\n",
    "        height = int(input(\"What is height\"))\n",
    "        area = math.pi * (radius ** 2) * height\n",
    "        print(f\"Volume of Cylinder\",area)\n",
    "        \n",
    "calculator = area_calculator()\n",
    "\n",
    "\n",
    "print(\"\\nPlease select an equation to calculate:\")\n",
    "print(\"1. Area of Trapezium\")\n",
    "print(\"2. Area of Rhombus\")\n",
    "print(\"3. Area of Parallelogram\")\n",
    "print(\"4. Area of Cube\")\n",
    "print(\"5. Volume of Cylinder\")\n",
    "print(\"6. Exit\")\n",
    "\n",
    "choice = int(input(\"Enter your choice (1-6): \"))\n",
    "\n",
    "if choice == 1:\n",
    "    calculator.trapezium()\n",
    "elif choice == 2:\n",
    "    calculator.rhombus()\n",
    "elif choice == 3:\n",
    "    calculator.paralellogram()\n",
    "elif choice == 4:\n",
    "    calculator.cube_formula()\n",
    "elif choice == 5:\n",
    "    calculator.volume_cylinder()\n",
    "elif choice == 6:\n",
    "    print(\"Thank you for using the Geometry Calculator. Goodbye!\")\n",
    "else:\n",
    "    print(\"Invalid choice. Please enter a valid choice (1-6).\")\n",
    "    \n"
   ]
  },
  {
   "cell_type": "code",
   "execution_count": null,
   "id": "c0561446",
   "metadata": {},
   "outputs": [],
   "source": []
  }
 ],
 "metadata": {
  "kernelspec": {
   "display_name": "Python 3 (ipykernel)",
   "language": "python",
   "name": "python3"
  },
  "language_info": {
   "codemirror_mode": {
    "name": "ipython",
    "version": 3
   },
   "file_extension": ".py",
   "mimetype": "text/x-python",
   "name": "python",
   "nbconvert_exporter": "python",
   "pygments_lexer": "ipython3",
   "version": "3.10.9"
  }
 },
 "nbformat": 4,
 "nbformat_minor": 5
}
