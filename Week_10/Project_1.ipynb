{
 "cells": [
  {
   "cell_type": "code",
   "execution_count": 10,
   "id": "672c45c0",
   "metadata": {},
   "outputs": [
    {
     "name": "stdout",
     "output_type": "stream",
     "text": [
      "Enter the number of oranges you want to buy: 40\n",
      " You are buying ranges, the total cost is 20.0\n"
     ]
    }
   ],
   "source": [
    "class orange:\n",
    "    \n",
    "    def __init__(self, stock):\n",
    "        self.stock = stock\n",
    "        \n",
    "    def purchase(self, amount):\n",
    "        priceorange = 0.50\n",
    "        if amount < self.stock:\n",
    "            total_amount = amount * priceorange\n",
    "            self.stock -= amount\n",
    "            print(\" You are buying ranges, the total cost is\",total_amount)\n",
    "        else:\n",
    "            print(\"Sorry we do not have that many oranges\")\n",
    "store = orange(100)\n",
    "                  \n",
    "requested_quantity = int(input(\"Enter the number of oranges you want to buy: \"))\n",
    "    \n",
    "store.purchase(requested_quantity)\n",
    "                  \n",
    "                  \n",
    "            \n",
    "    "
   ]
  },
  {
   "cell_type": "code",
   "execution_count": null,
   "id": "23a95af9",
   "metadata": {},
   "outputs": [],
   "source": []
  }
 ],
 "metadata": {
  "kernelspec": {
   "display_name": "Python 3 (ipykernel)",
   "language": "python",
   "name": "python3"
  },
  "language_info": {
   "codemirror_mode": {
    "name": "ipython",
    "version": 3
   },
   "file_extension": ".py",
   "mimetype": "text/x-python",
   "name": "python",
   "nbconvert_exporter": "python",
   "pygments_lexer": "ipython3",
   "version": "3.10.9"
  }
 },
 "nbformat": 4,
 "nbformat_minor": 5
}
