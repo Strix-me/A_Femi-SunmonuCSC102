{
 "cells": [
  {
   "cell_type": "code",
   "execution_count": null,
   "id": "f1332f4d",
   "metadata": {},
   "outputs": [],
   "source": [
    "class OrangeStore:\n",
    "    def __init__(self, stock):\n",
    "        self.stock = stock\n",
    "\n",
    "    def buy_oranges(self, quantity):\n",
    "        if quantity > self.stock:\n",
    "            print(\"Sorry, we don't have enough oranges in stock.\")\n",
    "            print(\"Please select a quantity less than or equal to\", self.stock)\n",
    "        else:\n",
    "            cost = quantity * 0.5  # Assuming each orange costs $0.50\n",
    "            self.stock -= quantity\n",
    "            print(\"You have successfully purchased\", quantity, \"oranges.\")\n",
    "            print(\"The total cost is $\", cost)\n",
    "            print(\"Thank you for your patronage!\")\n",
    "\n",
    "\n",
    "# Usage\n",
    "store = OrangeStore(20)  # Initialize the store with 20 oranges in stock\n",
    "requested_quantity = int(input(\"Enter the number of oranges to buy: \"))\n",
    "store.buy_oranges(requested_quantity)"
   ]
  }
 ],
 "metadata": {
  "kernelspec": {
   "display_name": "Python 3 (ipykernel)",
   "language": "python",
   "name": "python3"
  },
  "language_info": {
   "codemirror_mode": {
    "name": "ipython",
    "version": 3
   },
   "file_extension": ".py",
   "mimetype": "text/x-python",
   "name": "python",
   "nbconvert_exporter": "python",
   "pygments_lexer": "ipython3",
   "version": "3.10.9"
  }
 },
 "nbformat": 4,
 "nbformat_minor": 5
}
