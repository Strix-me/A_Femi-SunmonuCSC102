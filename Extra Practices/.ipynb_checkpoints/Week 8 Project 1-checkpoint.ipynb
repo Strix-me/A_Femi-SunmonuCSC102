{
 "cells": [
  {
   "cell_type": "code",
   "execution_count": 44,
   "id": "6daea7bb",
   "metadata": {},
   "outputs": [
    {
     "name": "stdout",
     "output_type": "stream",
     "text": [
      "What is your name? :Rash\n",
      "Yoo are not an employee\n",
      "You do not have Access\n"
     ]
    }
   ],
   "source": [
    "import random\n",
    "\n",
    "class Employee():\n",
    "    Employees = ['Mary Evans','Eyo Ishan','Durojaiye','Adams Ali','Andrew Ugwu','Stella Makinde','Jane Akibo','Ago James','Michell Taiwo','Abraham Jones','Nicole Anide','Kosi Korso','Adele Martins','Emmanuel Ojo','Ajayi Fatima']\n",
    "    Tasks = ['Loading','Tansporting','Reviewing Orders','Customer Service','Delivering Items']\n",
    "\n",
    "    \n",
    "    \n",
    "    def check_employee(self):\n",
    "        name = input(\"What is your name? :\")       \n",
    "        if name in self.Employees:\n",
    "            print(\"You are an employee \")\n",
    "            obj.take_attendance()\n",
    "            \n",
    "            \n",
    "        else:\n",
    "            obj.refuse_access()\n",
    "    def take_attendance(self):\n",
    "        print(\"You are present \")\n",
    "        obj.assign_task()\n",
    "    \n",
    "    def assign_task(self):\n",
    "        task = random.choice(obj.Tasks)\n",
    "        print(\"Your Task For today is \",task)\n",
    "    \n",
    "    def refuse_access(self):\n",
    "        print(\"Yoo are not an employee\")\n",
    "        print(\"You do not have Access\")\n",
    "\n",
    "        \n",
    "        \n",
    "\n",
    "obj = Employee()\n",
    "obj.check_employee()\n",
    "\n",
    "        "
   ]
  },
  {
   "cell_type": "code",
   "execution_count": 71,
   "id": "476fa927",
   "metadata": {},
   "outputs": [
    {
     "name": "stdout",
     "output_type": "stream",
     "text": [
      "Where are you delivering to?:lekki\n",
      "We do not deliver to that Location\n"
     ]
    }
   ],
   "source": [
    "class delivery():\n",
    "    def location_find(self):\n",
    "        location = input(\"Where are you delivering to?:\")\n",
    "        if location == 'PAU':\n",
    "            obj.pau()\n",
    "        elif location == 'EPE':\n",
    "            obj.epe()\n",
    "        else:\n",
    "            print(\"We do not deliver to that Location\")\n",
    "    def pau(self):\n",
    "        weight = int(input(\"How heavy is your item\"))\n",
    "        if weight >= 10:\n",
    "            print(\"Your Bill is N2000\")\n",
    "        elif weight < 10:\n",
    "            print(\"Your Bill is 1500\")\n",
    "        else:\n",
    "            print(\"Try Again \")\n",
    "        \n",
    "    def epe(self):\n",
    "        weight = int(input(\"How heavy is your item\"))\n",
    "        if weight >= 10:\n",
    "            print(\"Your Bill is N5000\")\n",
    "        elif weight < 10:\n",
    "            print(\"Your Bill is 4000\")\n",
    "        else:\n",
    "            print(\" Try Again\")\n",
    "obj=delivery()\n",
    "obj.location_find()"
   ]
  },
  {
   "cell_type": "code",
   "execution_count": null,
   "id": "63ad0ad9",
   "metadata": {},
   "outputs": [],
   "source": []
  },
  {
   "cell_type": "code",
   "execution_count": null,
   "id": "9e5aa408",
   "metadata": {},
   "outputs": [],
   "source": []
  }
 ],
 "metadata": {
  "kernelspec": {
   "display_name": "Python 3 (ipykernel)",
   "language": "python",
   "name": "python3"
  },
  "language_info": {
   "codemirror_mode": {
    "name": "ipython",
    "version": 3
   },
   "file_extension": ".py",
   "mimetype": "text/x-python",
   "name": "python",
   "nbconvert_exporter": "python",
   "pygments_lexer": "ipython3",
   "version": "3.10.9"
  }
 },
 "nbformat": 4,
 "nbformat_minor": 5
}
