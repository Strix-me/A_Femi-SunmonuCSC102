{
 "cells": [
  {
   "cell_type": "code",
   "execution_count": 21,
   "id": "6daea7bb",
   "metadata": {},
   "outputs": [
    {
     "name": "stdout",
     "output_type": "stream",
     "text": [
      "What is your name? :Mary Evans\n",
      "You are an employee \n"
     ]
    },
    {
     "ename": "NameError",
     "evalue": "name 'y' is not defined",
     "output_type": "error",
     "traceback": [
      "\u001b[1;31m---------------------------------------------------------------------------\u001b[0m",
      "\u001b[1;31mNameError\u001b[0m                                 Traceback (most recent call last)",
      "Cell \u001b[1;32mIn[21], line 35\u001b[0m\n\u001b[0;32m     33\u001b[0m \u001b[38;5;66;03m#obj = Employee(name)  \u001b[39;00m\n\u001b[0;32m     34\u001b[0m x \u001b[38;5;241m=\u001b[39m Employee(name)\n\u001b[1;32m---> 35\u001b[0m \u001b[43mx\u001b[49m\u001b[38;5;241;43m.\u001b[39;49m\u001b[43mcheck_employee\u001b[49m\u001b[43m(\u001b[49m\u001b[43m)\u001b[49m\n",
      "Cell \u001b[1;32mIn[21], line 14\u001b[0m, in \u001b[0;36mEmployee.check_employee\u001b[1;34m(self)\u001b[0m\n\u001b[0;32m     12\u001b[0m \u001b[38;5;28;01mif\u001b[39;00m name \u001b[38;5;129;01min\u001b[39;00m \u001b[38;5;28mself\u001b[39m\u001b[38;5;241m.\u001b[39mEmployees:\n\u001b[0;32m     13\u001b[0m     \u001b[38;5;28mprint\u001b[39m(\u001b[38;5;124m\"\u001b[39m\u001b[38;5;124mYou are an employee \u001b[39m\u001b[38;5;124m\"\u001b[39m)\n\u001b[1;32m---> 14\u001b[0m     \u001b[43my\u001b[49m\u001b[38;5;241m.\u001b[39mtake_attendance()            \n\u001b[0;32m     15\u001b[0m \u001b[38;5;28;01melse\u001b[39;00m:\n\u001b[0;32m     16\u001b[0m     y\u001b[38;5;241m.\u001b[39mrefuse_access()\n",
      "\u001b[1;31mNameError\u001b[0m: name 'y' is not defined"
     ]
    }
   ],
   "source": [
    "import random\n",
    "\n",
    "class Employee():\n",
    "    Employees = ['Mary Evans','Eyo Ishan','Durojaiye','Adams Ali','Andrew Ugwu','Stella Makinde','Jane Akibo','Ago James','Michell Taiwo','Abraham Jones','Nicole Anide','Kosi Korso','Adele Martins','Emmanuel Ojo','Ajayi Fatima']\n",
    "    Tasks = ['Loading','Tansporting','Reviewing Orders','Customer Service','Delivering Items']\n",
    "\n",
    "    def __init__(self, name):\n",
    "        self.name = name\n",
    "    \n",
    "    def check_employee(self):\n",
    "       # name = input(\"What is your name? :\")       \n",
    "        if name in self.Employees:\n",
    "            print(\"You are an employee \")\n",
    "            obj.take_attendance()            \n",
    "        else:\n",
    "            obj.refuse_access()\n",
    "            \n",
    "    def take_attendance(self):\n",
    "        print(\"You are present \")\n",
    "        obj.assign_task()\n",
    "    \n",
    "    def assign_task(self):\n",
    "        #task = random.choice(obj.Tasks)\n",
    "        task = random.randint(0, len(self.Tasks))\n",
    "        print(\"Your Task For today is \",task)\n",
    "    \n",
    "    def refuse_access(self):\n",
    "        print(\"You are not an employee\")\n",
    "        print(\"You do not have Access\")\n",
    "        \n",
    "\n",
    "name = input(\"What is your name? :\")  \n",
    "#obj = Employee(name)  \n",
    "x = Employee(name)\n",
    "x.check_employee()\n",
    "#obj.check_employee()\n",
    "\n",
    "        "
   ]
  },
  {
   "cell_type": "code",
   "execution_count": 71,
   "id": "476fa927",
   "metadata": {},
   "outputs": [
    {
     "name": "stdout",
     "output_type": "stream",
     "text": [
      "Where are you delivering to?:lekki\n",
      "We do not deliver to that Location\n"
     ]
    }
   ],
   "source": [
    "class delivery():\n",
    "    def location_find(self):\n",
    "        location = input(\"Where are you delivering to?:\")\n",
    "        if location == 'PAU':\n",
    "            obj.pau()\n",
    "        elif location == 'EPE':\n",
    "            obj.epe()\n",
    "        else:\n",
    "            print(\"We do not deliver to that Location\")\n",
    "    def pau(self):\n",
    "        weight = int(input(\"How heavy is your item\"))\n",
    "        if weight >= 10:\n",
    "            print(\"Your Bill is N2000\")\n",
    "        elif weight < 10:\n",
    "            print(\"Your Bill is 1500\")\n",
    "        else:\n",
    "            print(\"Try Again \")\n",
    "        \n",
    "    def epe(self):\n",
    "        weight = int(input(\"How heavy is your item\"))\n",
    "        if weight >= 10:\n",
    "            print(\"Your Bill is N5000\")\n",
    "        elif weight < 10:\n",
    "            print(\"Your Bill is 4000\")\n",
    "        else:\n",
    "            print(\" Try Again\")\n",
    "obj=delivery()\n",
    "obj.location_find()"
   ]
  },
  {
   "cell_type": "code",
   "execution_count": null,
   "id": "63ad0ad9",
   "metadata": {},
   "outputs": [],
   "source": []
  },
  {
   "cell_type": "code",
   "execution_count": null,
   "id": "9e5aa408",
   "metadata": {},
   "outputs": [],
   "source": []
  }
 ],
 "metadata": {
  "kernelspec": {
   "display_name": "Python 3 (ipykernel)",
   "language": "python",
   "name": "python3"
  },
  "language_info": {
   "codemirror_mode": {
    "name": "ipython",
    "version": 3
   },
   "file_extension": ".py",
   "mimetype": "text/x-python",
   "name": "python",
   "nbconvert_exporter": "python",
   "pygments_lexer": "ipython3",
   "version": "3.10.9"
  }
 },
 "nbformat": 4,
 "nbformat_minor": 5
}
