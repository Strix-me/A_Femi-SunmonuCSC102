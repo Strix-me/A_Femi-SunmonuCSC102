{
 "cells": [
  {
   "cell_type": "code",
   "execution_count": 29,
   "id": "6daea7bb",
   "metadata": {},
   "outputs": [
    {
     "name": "stdout",
     "output_type": "stream",
     "text": [
      "What is your name? :Mary Evans\n",
      "You are an employee \n",
      "You are present \n",
      "Your Task For today is  2\n"
     ]
    }
   ],
   "source": []
  },
  {
   "cell_type": "code",
   "execution_count": 30,
   "id": "476fa927",
   "metadata": {},
   "outputs": [
    {
     "name": "stdout",
     "output_type": "stream",
     "text": [
      "Where are you delivering to?:EPE\n",
      "How heavy is your item20\n",
      "Your Bill is N5000\n"
     ]
    }
   ],
   "source": [
    "class delivery():\n",
    "    def location_find(self):\n",
    "        location = input(\"Where are you delivering to?:\")\n",
    "        if location == 'PAU':\n",
    "            self.pau()\n",
    "        elif location == 'EPE':\n",
    "            self.epe()\n",
    "        else:\n",
    "            print(\"We do not deliver to that Location\")\n",
    "    def pau(self):\n",
    "        weight = int(input(\"How heavy is your item\"))\n",
    "        if weight >= 10:\n",
    "            print(\"Your Bill is N2000\")\n",
    "        elif weight < 10:\n",
    "            print(\"Your Bill is 1500\")\n",
    "        else:\n",
    "            print(\"Try Again \")\n",
    "        \n",
    "    def epe(self):\n",
    "        weight = int(input(\"How heavy is your item\"))\n",
    "        if weight >= 10:\n",
    "            print(\"Your Bill is N5000\")\n",
    "        elif weight < 10:\n",
    "            print(\"Your Bill is 4000\")\n",
    "        else:\n",
    "            print(\" Try Again\")\n",
    "            \n",
    "obj=delivery()\n",
    "obj.location_find()"
   ]
  },
  {
   "cell_type": "code",
   "execution_count": 2,
   "id": "63ad0ad9",
   "metadata": {},
   "outputs": [
    {
     "name": "stdout",
     "output_type": "stream",
     "text": [
      "Where do you want to deliver to: red\n",
      "How much does it weigh: 40\n",
      "We only deliver to PAU and EPE\n"
     ]
    }
   ],
   "source": []
  },
  {
   "cell_type": "code",
   "execution_count": null,
   "id": "9e5aa408",
   "metadata": {},
   "outputs": [],
   "source": []
  }
 ],
 "metadata": {
  "kernelspec": {
   "display_name": "Python 3 (ipykernel)",
   "language": "python",
   "name": "python3"
  },
  "language_info": {
   "codemirror_mode": {
    "name": "ipython",
    "version": 3
   },
   "file_extension": ".py",
   "mimetype": "text/x-python",
   "name": "python",
   "nbconvert_exporter": "python",
   "pygments_lexer": "ipython3",
   "version": "3.10.9"
  }
 },
 "nbformat": 4,
 "nbformat_minor": 5
}
