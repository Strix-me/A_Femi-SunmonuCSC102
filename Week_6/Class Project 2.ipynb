{
 "cells": [
  {
   "cell_type": "code",
   "execution_count": 1,
   "id": "50527743",
   "metadata": {},
   "outputs": [
    {
     "name": "stdout",
     "output_type": "stream",
     "text": [
      "Your file has been created\n"
     ]
    },
    {
     "data": {
      "text/html": [
       "<div>\n",
       "<style scoped>\n",
       "    .dataframe tbody tr th:only-of-type {\n",
       "        vertical-align: middle;\n",
       "    }\n",
       "\n",
       "    .dataframe tbody tr th {\n",
       "        vertical-align: top;\n",
       "    }\n",
       "\n",
       "    .dataframe thead th {\n",
       "        text-align: right;\n",
       "    }\n",
       "</style>\n",
       "<table border=\"1\" class=\"dataframe\">\n",
       "  <thead>\n",
       "    <tr style=\"text-align: right;\">\n",
       "      <th></th>\n",
       "      <th>Unnamed: 0</th>\n",
       "      <th>Refeshement Beverages</th>\n",
       "      <th>Confectionery</th>\n",
       "      <th>Intermediate Cocoa Products</th>\n",
       "    </tr>\n",
       "  </thead>\n",
       "  <tbody>\n",
       "    <tr>\n",
       "      <th>0</th>\n",
       "      <td>0</td>\n",
       "      <td>CADBURY BOURNVITA</td>\n",
       "      <td>TOMTOM CLASSIC</td>\n",
       "      <td>COCOA POWDER</td>\n",
       "    </tr>\n",
       "    <tr>\n",
       "      <th>1</th>\n",
       "      <td>1</td>\n",
       "      <td>CADBURY 3-in-1 HOT CHOCOLATE</td>\n",
       "      <td>TOMTOM STRAWBERRY</td>\n",
       "      <td>COCOA BUTTER</td>\n",
       "    </tr>\n",
       "    <tr>\n",
       "      <th>2</th>\n",
       "      <td>2</td>\n",
       "      <td>NaN</td>\n",
       "      <td>BUTTERMINT</td>\n",
       "      <td>NaN</td>\n",
       "    </tr>\n",
       "  </tbody>\n",
       "</table>\n",
       "</div>"
      ],
      "text/plain": [
       "   Unnamed: 0         Refeshement Beverages      Confectionery  \\\n",
       "0           0             CADBURY BOURNVITA     TOMTOM CLASSIC   \n",
       "1           1  CADBURY 3-in-1 HOT CHOCOLATE  TOMTOM STRAWBERRY   \n",
       "2           2                           NaN         BUTTERMINT   \n",
       "\n",
       "  Intermediate Cocoa Products  \n",
       "0                COCOA POWDER  \n",
       "1                COCOA BUTTER  \n",
       "2                         NaN  "
      ]
     },
     "execution_count": 1,
     "metadata": {},
     "output_type": "execute_result"
    }
   ],
   "source": [
    "import pandas as pd\n",
    "\n",
    "cadbury ={'Refeshement Beverages':[\"CADBURY BOURNVITA\", \"CADBURY 3-in-1 HOT CHOCOLATE\",\"\"],\n",
    "         'Confectionery':[\"TOMTOM CLASSIC\", \"TOMTOM STRAWBERRY\",\"BUTTERMINT\"],\n",
    "         'Intermediate Cocoa Products':[\"COCOA POWDER\", \"COCOA BUTTER\",\"\"]}\n",
    "df = pd.DataFrame(cadbury)\n",
    "\n",
    "\n",
    "df.to_csv('cadbury.csv')\n",
    "print(\"Your file has been created\")\n",
    "cadbury = pd.read_csv(\"cadbury.csv\")\n",
    "\n",
    "cadbury"
   ]
  },
  {
   "cell_type": "code",
   "execution_count": null,
   "id": "6e9e9193",
   "metadata": {},
   "outputs": [],
   "source": []
  }
 ],
 "metadata": {
  "kernelspec": {
   "display_name": "Python 3 (ipykernel)",
   "language": "python",
   "name": "python3"
  },
  "language_info": {
   "codemirror_mode": {
    "name": "ipython",
    "version": 3
   },
   "file_extension": ".py",
   "mimetype": "text/x-python",
   "name": "python",
   "nbconvert_exporter": "python",
   "pygments_lexer": "ipython3",
   "version": "3.10.9"
  }
 },
 "nbformat": 4,
 "nbformat_minor": 5
}
