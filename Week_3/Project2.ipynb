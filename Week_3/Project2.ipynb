{
 "cells": [
  {
   "cell_type": "code",
   "execution_count": 19,
   "id": "3849aca5",
   "metadata": {},
   "outputs": [
    {
     "name": "stdout",
     "output_type": "stream",
     "text": [
      "Enter Value of a: 2\n",
      "Enter Value of b: -30\n",
      "Enter Value of c: 162\n",
      "Enter Value of d: -350\n",
      "The discriminant -11664.0, is less than zero so the equation has on real rooat and two non-real complex congugate roots\n",
      "The Roots are 9.276410303584186, 2.537914561959601, 3.1856751344562135\n"
     ]
    }
   ],
   "source": [
    "a = float(input(\"Enter Value of a: \"))\n",
    "b = float(input(\"Enter Value of b: \"))\n",
    "c = float(input(\"Enter Value of c: \"))\n",
    "d = float(input(\"Enter Value of d: \"))\n",
    "\n",
    "a_1 = b/a\n",
    "a_2 = c/a\n",
    "a_3 = d/a\n",
    "\n",
    "\n",
    "d = ((a_1 ** 2 * a_2 ** 2) + (18 * a_1 * a_2 * a_3) - (4 * a_2 ** 3) - (4 * a_1 ** 3 * a_3) - (27 * a_3 ** 2))\n",
    "\n",
    "q = ((3 * a_2) - (a_1 ** 2))/9 \n",
    "\n",
    "r = ((9 * a_1 * a_2) -(27 * a_3) - (2 * a_1 ** 3))/54\n",
    "\n",
    "s = ((r + ((q ** 3 + 3 ** 2)** (1/3)) )** (1/3))\n",
    "\n",
    "t = ((r - ((q ** 3 + 3 ** 2)** (1/3)) )** (1/3))\n",
    "\n",
    "root1 = s + t - ((1/3) * a_1)\n",
    "\n",
    "root2 = ((-1/2) * (s + t)) - ((1/3) * a_1) + (((1/2) * (-1**(1/2)) * (3 ** (1/2)) * (s - t)))\n",
    "\n",
    "root3 = ((-1/2) * (s + t)) - ((1/3) * a_1) - (((1/2) * (-1**(1/2)) * (3 ** (1/2)) * (s - t)))\n",
    "if d > 0:\n",
    "    print(f\"The discriminant {d}, is greater than zero so there are 3 distinct real roots\")\n",
    "    print(f\"The Roots are {root1}, {root2}, {root3}\")\n",
    "elif d == 0:\n",
    "    print(f\"The discriminant {d}, is equal to zero so, there are repeated roots and they are all real\")\n",
    "    print(f\"The Roots are {root1}, {root2}, {root3}\")\n",
    "else:\n",
    "    print(f\"The discriminant {d}, is less than zero so the equation has on real rooat and two non-real complex congugate roots\")\n",
    "    print(f\"The Roots are {root1}, {root2}, {root3}\")\n",
    "\n",
    "    \n",
    "    \n",
    "\n"
   ]
  },
  {
   "cell_type": "code",
   "execution_count": 18,
   "id": "2a926f77",
   "metadata": {
    "scrolled": false
   },
   "outputs": [
    {
     "name": "stdout",
     "output_type": "stream",
     "text": [
      "A:1\n",
      "B:-8\n",
      "C:15\n",
      "The discriminant 4.0, is greater than zero so there are 2 real and unequal roots\n",
      "The roots of the equation are  x: 5.0 , 3.0\n"
     ]
    }
   ],
   "source": [
    "a = float(input(\"A:\"))\n",
    "b = float(input(\"B:\"))\n",
    "c = float(input(\"C:\"))\n",
    "\n",
    "dis = (b**2)-(4*a*c)\n",
    "det = dis**(1/2)\n",
    "\n",
    "root1 = (-b + det)/(2*a)\n",
    "root2 = (-b - det)/(2*a)\n",
    "\n",
    "\n",
    "if det > 0:\n",
    "    print(f\"The discriminant {discriminant}, is greater than zero so there are 2 real and unequal roots\")\n",
    "    print(f\"The roots of the equation are  x: {root1} , {root2}\") \n",
    "elif det == 0:\n",
    "    print(f\"The discriminant {discriminant}, is greater than zero so there are  real and equal roots\")\n",
    "    print(f\"The roots of the equation are  x: {root1} , {root2}\")\n",
    "elif det < 0:\n",
    "    print(f\"The discriminant {discriminant}, is greater than zero so there are imaginary\")\n",
    "    print(f\"The roots of the equation are  x: {root1} , {root2}\") "
   ]
  },
  {
   "cell_type": "code",
   "execution_count": null,
   "id": "7f49fbba",
   "metadata": {},
   "outputs": [],
   "source": []
  }
 ],
 "metadata": {
  "kernelspec": {
   "display_name": "Python 3 (ipykernel)",
   "language": "python",
   "name": "python3"
  },
  "language_info": {
   "codemirror_mode": {
    "name": "ipython",
    "version": 3
   },
   "file_extension": ".py",
   "mimetype": "text/x-python",
   "name": "python",
   "nbconvert_exporter": "python",
   "pygments_lexer": "ipython3",
   "version": "3.10.9"
  }
 },
 "nbformat": 4,
 "nbformat_minor": 5
}
