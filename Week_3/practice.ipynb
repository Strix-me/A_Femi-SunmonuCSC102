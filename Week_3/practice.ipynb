{
 "cells": [
  {
   "cell_type": "code",
   "execution_count": 1,
   "id": "be94523c",
   "metadata": {},
   "outputs": [
    {
     "name": "stdout",
     "output_type": "stream",
     "text": [
      "Enter your state of originOgun\n",
      "Your State of origin is:  Ogun\n",
      "The first character is : O\n",
      "The string starting from 3rd to 5th are:  un\n",
      "The string starting from 3rd character is:  un\n",
      "State of origin two times OgunOgun\n"
     ]
    }
   ],
   "source": [
    "str = input(\"Enter your state of origin\")\n",
    "\n",
    "\n",
    "print (\"Your State of origin is: \", str)\n",
    "print (\"The first character is :\", str[0])\n",
    "print (\"The string starting from 3rd to 5th are: \", str[2:5])\n",
    "print (\"The string starting from 3rd character is: \", str[2:])\n",
    "print (\"State of origin two times\", str * 2)\n"
   ]
  },
  {
   "cell_type": "code",
   "execution_count": 3,
   "id": "dae15f05",
   "metadata": {},
   "outputs": [
    {
     "name": "stdout",
     "output_type": "stream",
     "text": [
      "Enter mass in kilogram20\n",
      "The energy equivalent to 20.0 kg of mass is 1.7975103574736353e+18 joules.\n"
     ]
    }
   ],
   "source": [
    "# Input from user\n",
    "m = float(input(\"Enter mass in kilogram\"))\n",
    "\n",
    "# Constant value for the speed of light in m/s\n",
    "c = 299792458\n",
    "\n",
    "# Calulating Enery Using Eintein's Equation\n",
    "energy = m * c ** 2\n",
    "\n",
    "#Displaying the result\n",
    "print(f\"The energy equivalent to {m} kg of mass is {energy} joules.\")"
   ]
  },
  {
   "cell_type": "code",
   "execution_count": 5,
   "id": "1c304041",
   "metadata": {},
   "outputs": [
    {
     "name": "stdout",
     "output_type": "stream",
     "text": [
      "['Anaconda', 786, 2.23, 'Jupyter', 70.2]\n",
      "Anaconda\n",
      "[786, 2.23]\n",
      "[2.23, 'Jupyter', 70.2]\n",
      "[321, 'Python', 321, 'Python']\n",
      "['Anaconda', 786, 2.23, 'Jupyter', 70.2, 321, 'Python']\n"
     ]
    }
   ],
   "source": [
    "list = [ 'Anaconda', 786 , 2.23, 'Jupyter', 70.2]\n",
    "shortlist = [321, 'Python']\n",
    "\n",
    "print(list)              \n",
    "print(list[0])               \n",
    "print(list[1:3])            \n",
    "print(list[2:])\n",
    "print(shortlist * 2)\n",
    "print(list + shortlist)"
   ]
  },
  {
   "cell_type": "code",
   "execution_count": 6,
   "id": "26d01dc9",
   "metadata": {},
   "outputs": [
    {
     "name": "stdout",
     "output_type": "stream",
     "text": [
      "('Ekiti', 750, 'Oshogbo', 250, 'Akure', 500)\n",
      "500\n",
      "('Oshogbo', 250)\n",
      "(250, 'Akure', 500)\n",
      "('Abeokuta', 300, 'Ogbomoso', 'Abeokuta', 300, 'Ogbomoso', 'Abeokuta', 300, 'Ogbomoso')\n",
      "('Ekiti', 750, 'Oshogbo', 250, 'Akure', 500, 'Abeokuta', 300, 'Ogbomoso')\n"
     ]
    }
   ],
   "source": [
    "tuple = (\"Ekiti\", 750, 'Oshogbo', 250, \"Akure\", 500)\n",
    "s_tuple = (\"Abeokuta\", 300, \"Ogbomoso\")\n",
    "\n",
    "\n",
    "print (tuple)\n",
    "\n",
    "print (tuple[-1])\n",
    "\n",
    "print (tuple[2:4])\n",
    "\n",
    "print (tuple[3:])\n",
    "\n",
    "print (s_tuple * 3)\n",
    "\n",
    "print (tuple + s_tuple)"
   ]
  },
  {
   "cell_type": "code",
   "execution_count": 7,
   "id": "46f6f3c1",
   "metadata": {},
   "outputs": [
    {
     "name": "stdout",
     "output_type": "stream",
     "text": [
      "False\n",
      "False\n",
      "False\n",
      "False\n",
      "True\n"
     ]
    }
   ],
   "source": [
    "game_1 =2\n",
    "game_2 =4\n",
    "print(bool(game_1 == game_2))\n",
    "\n",
    "print(game_1 == game_2)\n",
    "\n",
    "val = None\n",
    "print(bool(val))\n",
    "\n",
    "num = ()\n",
    "print(bool(num))\n",
    "\n",
    "\n",
    "age = True\n",
    "print(bool(age))"
   ]
  },
  {
   "cell_type": "code",
   "execution_count": 5,
   "id": "30f92c1b",
   "metadata": {},
   "outputs": [
    {
     "name": "stdout",
     "output_type": "stream",
     "text": [
      "Grade = 70\n",
      "GPA = 4\n",
      "CGPA = 4\n"
     ]
    }
   ],
   "source": [
    "grade = int(70)\n",
    "gpa = int(4.9)\n",
    "cgpa = int(\"4\")\n",
    "\n",
    "\n",
    "\n",
    "print(f\"Grade = {grade}\")\n",
    "print(f\"GPA = {gpa}\")\n",
    "print(f\"CGPA = {cgpa}\")"
   ]
  },
  {
   "cell_type": "code",
   "execution_count": 9,
   "id": "975c31e9",
   "metadata": {},
   "outputs": [
    {
     "name": "stdout",
     "output_type": "stream",
     "text": [
      "Grade = 97.0\n",
      "GPA = 5.0\n",
      "CGPA = 4.7\n"
     ]
    }
   ],
   "source": [
    "grade = float(97)\n",
    "gpa = float(5)\n",
    "cgpa = float(\"4.7\")\n",
    "\n",
    "print(f\"Grade = {grade}\")\n",
    "print(f\"GPA = {gpa}\")\n",
    "print(f\"CGPA = {cgpa}\")"
   ]
  },
  {
   "cell_type": "code",
   "execution_count": null,
   "id": "68ca2c58",
   "metadata": {},
   "outputs": [],
   "source": []
  }
 ],
 "metadata": {
  "kernelspec": {
   "display_name": "Python 3 (ipykernel)",
   "language": "python",
   "name": "python3"
  },
  "language_info": {
   "codemirror_mode": {
    "name": "ipython",
    "version": 3
   },
   "file_extension": ".py",
   "mimetype": "text/x-python",
   "name": "python",
   "nbconvert_exporter": "python",
   "pygments_lexer": "ipython3",
   "version": "3.10.9"
  }
 },
 "nbformat": 4,
 "nbformat_minor": 5
}
