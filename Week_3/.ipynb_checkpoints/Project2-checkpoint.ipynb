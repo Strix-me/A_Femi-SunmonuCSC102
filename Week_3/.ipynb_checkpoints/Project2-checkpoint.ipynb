{
 "cells": [
  {
   "cell_type": "code",
   "execution_count": 3,
   "id": "3849aca5",
   "metadata": {},
   "outputs": [
    {
     "name": "stdout",
     "output_type": "stream",
     "text": [
      "Enter Value of a: 2\n",
      "Enter Value of b: -30\n",
      "Enter Value of c: 162\n",
      "The discriminant -777132.0, is less than zero so the equation has on real rooat and two non-real complex congugate roots\n",
      "The Roots are (4.096304394075641-0.15321331199886679j), (-2.9827727481770627-6.554088044895798j), (-3.1135316458985787+6.707301356894665j)\n"
     ]
    }
   ],
   "source": [
    "\n",
    "\n",
    "\n",
    "a = float(input(\"Enter Value of a: \"))\n",
    "b = float(input(\"Enter Value of b: \"))\n",
    "c = float(input(\"Enter Value of c: \"))\n",
    "\n",
    "d = ((a ** 2 * b ** 2) + (18 * a * b * c) - (4 * b ** 3) - (4 * a ** 3 * c) - (27 * c ** 2))\n",
    "\n",
    "q = ((3 * b) - (a ** 2))/9\n",
    "\n",
    "r = ((9 * a * b) -(27 * c) - (2 * a ** 3))/54\n",
    "\n",
    "s = ((r + ((q ** 3 + 3 ** 2)** (1/3)) )** (1/3))\n",
    "\n",
    "t = ((r - ((q ** 3 + 3 ** 2)** (1/3)) )** (1/3))\n",
    "\n",
    "root1 = s + t - ((1/3) * a)\n",
    "\n",
    "root2 = ((-1/2) * (s + t)) - ((1/3) * a) + (((1/2) * (-1**(1/2)) * (3 ** (1/2)) * (s - t)))\n",
    "\n",
    "root3 = ((-1/2) * (s + t)) - ((1/3) * a) - (((1/2) * (-1**(1/2)) * (3 ** (1/2)) * (s - t)))\n",
    "if d > 0:\n",
    "    print(f\"The discriminant {d}, is greater than zero so there are 3 distinct real roots\")\n",
    "    print(f\"The Roots are {root1}, {root2}, {root3}\")\n",
    "elif d == 0:\n",
    "    print(f\"The discriminant {d}, is equal to zero so, there are repeated roots and they are all real\")\n",
    "    print(f\"The Roots are {root1}, {root2}, {root3}\")\n",
    "else:\n",
    "    print(f\"The discriminant {d}, is less than zero so the equation has on real rooat and two non-real complex congugate roots\")\n",
    "    print(f\"The Roots are {root1}, {root2}, {root3}\")\n",
    "\n",
    "    \n",
    "    \n",
    "\n"
   ]
  },
  {
   "cell_type": "code",
   "execution_count": 1,
   "id": "9403b50d",
   "metadata": {},
   "outputs": [],
   "source": []
  },
  {
   "cell_type": "code",
   "execution_count": null,
   "id": "05bdb695",
   "metadata": {},
   "outputs": [],
   "source": []
  }
 ],
 "metadata": {
  "kernelspec": {
   "display_name": "Python 3 (ipykernel)",
   "language": "python",
   "name": "python3"
  },
  "language_info": {
   "codemirror_mode": {
    "name": "ipython",
    "version": 3
   },
   "file_extension": ".py",
   "mimetype": "text/x-python",
   "name": "python",
   "nbconvert_exporter": "python",
   "pygments_lexer": "ipython3",
   "version": "3.10.9"
  }
 },
 "nbformat": 4,
 "nbformat_minor": 5
}
