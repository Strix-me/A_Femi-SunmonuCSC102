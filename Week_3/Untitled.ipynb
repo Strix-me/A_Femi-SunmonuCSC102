{
 "cells": [
  {
   "cell_type": "code",
   "execution_count": 2,
   "id": "014f74e6",
   "metadata": {},
   "outputs": [],
   "source": [
    "import cmath\n",
    "\n",
    "def cubic_roots(a, b, c, d):\n",
    "    q = (3*a*c - b**2)/(9*a**2)\n",
    "    r = (9*a*b*c - 27*a**2*d - 2*b**3)/(54*a**3)\n",
    "    delta = q**3 + r**2\n",
    "\n",
    "    if delta > 0:\n",
    "        s = (-r + cmath.sqrt(delta))**(1/3)\n",
    "        t = (-r - cmath.sqrt(delta))**(1/3)\n",
    "        x1 = s + t - b/(3*a)\n",
    "        x2 = -1/2*(s + t) - b/(3*a) + cmath.sqrt(3)/2*(s - t)*1j\n",
    "        x3 = -1/2*(s + t) - b/(3*a) - cmath.sqrt(3)/2*(s - t)*1j\n",
    "        return x1, x2, x3\n",
    "    elif delta == 0:\n",
    "        s = (-r)**(1/3)\n",
    "        t = -b/(3*a)\n",
    "        x1 = s + t\n",
    "        x2 = -1/2*(s + t) + cmath.sqrt(3)/2*(s - t)*1j\n",
    "        x3 = -1/2*(s + t) - cmath"
   ]
  },
  {
   "cell_type": "code",
   "execution_count": null,
   "id": "f8016e84",
   "metadata": {},
   "outputs": [],
   "source": []
  }
 ],
 "metadata": {
  "kernelspec": {
   "display_name": "Python 3 (ipykernel)",
   "language": "python",
   "name": "python3"
  },
  "language_info": {
   "codemirror_mode": {
    "name": "ipython",
    "version": 3
   },
   "file_extension": ".py",
   "mimetype": "text/x-python",
   "name": "python",
   "nbconvert_exporter": "python",
   "pygments_lexer": "ipython3",
   "version": "3.10.9"
  }
 },
 "nbformat": 4,
 "nbformat_minor": 5
}
