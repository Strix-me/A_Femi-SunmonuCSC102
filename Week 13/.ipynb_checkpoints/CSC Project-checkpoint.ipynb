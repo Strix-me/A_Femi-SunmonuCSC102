{
 "cells": [
  {
   "cell_type": "code",
   "execution_count": null,
   "id": "763bf8ac",
   "metadata": {},
   "outputs": [
    {
     "name": "stdout",
     "output_type": "stream",
     "text": [
      "Enter your name: yuf\n",
      "Enter your Matric Number: 8989\n"
     ]
    }
   ],
   "source": [
    "import pandas as pd\n",
    "\n",
    "data = []\n",
    "for i in range(5):\n",
    "    PAUSMIS = {}\n",
    "    PAUSMIS['Student Name'] = input(\"Enter your name: \")\n",
    "    PAUSMIS['Matric.Number'] = input(\"Enter your Matric Number: \")\n",
    "    PAUSMIS['Department'] = input(\"Enter your Department: \")\n",
    "    PAUSMIS['Level'] = input(\"Enter your Level: \")\n",
    "    \n",
    "    data.append(PAUSMIS)\n",
    "\n",
    "df = pd.DataFrame(data)\n",
    "print(df)\n",
    "\n",
    "\n",
    "df.to_csv('PAU-SMIS.cvs',index = False)"
   ]
  },
  {
   "cell_type": "code",
   "execution_count": null,
   "id": "84c86007",
   "metadata": {},
   "outputs": [],
   "source": []
  }
 ],
 "metadata": {
  "kernelspec": {
   "display_name": "Python 3 (ipykernel)",
   "language": "python",
   "name": "python3"
  },
  "language_info": {
   "codemirror_mode": {
    "name": "ipython",
    "version": 3
   },
   "file_extension": ".py",
   "mimetype": "text/x-python",
   "name": "python",
   "nbconvert_exporter": "python",
   "pygments_lexer": "ipython3",
   "version": "3.10.9"
  }
 },
 "nbformat": 4,
 "nbformat_minor": 5
}
